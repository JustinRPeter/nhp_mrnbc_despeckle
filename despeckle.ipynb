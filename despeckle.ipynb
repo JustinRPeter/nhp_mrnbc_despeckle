{
 "cells": [
  {
   "cell_type": "code",
   "execution_count": null,
   "metadata": {},
   "outputs": [],
   "source": [
    "import xarray as xr\n",
    "import numpy as np"
   ]
  },
  {
   "cell_type": "code",
   "execution_count": null,
   "metadata": {},
   "outputs": [],
   "source": [
    "input_dir = '/g/data/er4/vd5822/files_to_check/mrnbc_speckling/input/'\n",
    "output_dir = '/g/data/er4/vd5822/files_to_check/mrnbc_speckling/output/'\n",
    "\n",
    "file_name_base = 'pr_mrnbc_CNRM-CM5_rcp85.nc4'\n",
    "#file_name_base = 'tasmin_mrnbc_CNRM-CM5_rcp85.nc4'\n",
    "input_file = input_dir + file_name_base\n",
    "output_file = output_dir + file_name_base"
   ]
  },
  {
   "cell_type": "code",
   "execution_count": null,
   "metadata": {},
   "outputs": [],
   "source": [
    "ds = xr.open_dataset(input_file)"
   ]
  },
  {
   "cell_type": "code",
   "execution_count": null,
   "metadata": {},
   "outputs": [],
   "source": [
    "var_name = 'pr'\n",
    "threshold = 0.009259\n",
    "# Known speckled grid cells for pr CNRM-CM5 (time,lat,lon)\n",
    "# 0,6,145\n",
    "# 0,455,675\n",
    "# 0,456,675\n",
    "\n",
    "#var_name = 'tasmin'\n",
    "#threshold = 333.1\n",
    "# Known speckled grid cells for pr CNRM-CM5 (time,lat,lon)\n",
    "# 0,6,145\n",
    "# 0,455,675\n",
    "# 0,456,675\n",
    "\n",
    "# This location (0,417,260) is already NaN?"
   ]
  },
  {
   "cell_type": "code",
   "execution_count": null,
   "metadata": {},
   "outputs": [],
   "source": [
    "# Remove the specks.\n",
    "# This where() statement keeps everything below the threshold,\n",
    "# and anything equal or above will be NaN.\n",
    "specks_removed = ds.where(ds < threshold)"
   ]
  },
  {
   "cell_type": "code",
   "execution_count": null,
   "metadata": {},
   "outputs": [],
   "source": [
    "# Now that we have the specks removed and replaced with NaNs, we can\n",
    "# use interpolate_na() to interpolate just the NaN cells, using surrounding\n",
    "# cells.\n",
    "# interpolate_na() only works on a single dimension.\n",
    "# To do bilinear filtering, we have to interpolate in both\n",
    "# lat and lon dimensions, then combine the result\n",
    "interpolated_on_lat = specks_removed.interpolate_na(dim='lat')\n",
    "interpolated_on_lon = specks_removed.interpolate_na(dim='lon')\n",
    "interpolated = (interpolated_on_lat + interpolated_on_lon) * 0.5"
   ]
  },
  {
   "cell_type": "code",
   "execution_count": null,
   "metadata": {},
   "outputs": [],
   "source": [
    "# We can now write the data with interpolated cells\n",
    "interpolated.to_netcdf(output_file)"
   ]
  },
  {
   "cell_type": "code",
   "execution_count": null,
   "metadata": {},
   "outputs": [],
   "source": [
    "# Each cell in the interpolated data was modified, though unaffected cells\n",
    "# should maintain their original value (doubled, then halved).\n",
    "# If we just wanted to apply the interpolated values to the affected\n",
    "# cells, we can use where() again\n",
    "output = xr.where(ds < threshold, ds, interpolated)"
   ]
  },
  {
   "cell_type": "code",
   "execution_count": null,
   "metadata": {},
   "outputs": [],
   "source": []
  },
  {
   "cell_type": "code",
   "execution_count": null,
   "metadata": {},
   "outputs": [],
   "source": []
  },
  {
   "cell_type": "code",
   "execution_count": null,
   "metadata": {},
   "outputs": [],
   "source": []
  },
  {
   "cell_type": "code",
   "execution_count": null,
   "metadata": {},
   "outputs": [],
   "source": [
    "def naive_method():\n",
    "    # This is a naive method where each grid cell at time=0 is looped over,\n",
    "    # finding which cell is over the threshold, then performing an interp.\n",
    "    # It's placed in a function for the sole purpose of avoid being run\n",
    "    # when \"run all cells\" is used.\n",
    "    lats = ds['lat'].data\n",
    "    lons = ds['lon'].data\n",
    "\n",
    "    for lati,lat in np.ndenumerate(lats):\n",
    "        for loni,lon in np.ndenumerate(lons):\n",
    "            if ds[var_name][0,lati[0],loni[0]].data > threshold:\n",
    "                d = specks_removed.interp(lat=lat, lon=lon)[var_name].data\n",
    "                ds[var_name][:,lati[0],loni[0]] = d"
   ]
  },
  {
   "cell_type": "code",
   "execution_count": null,
   "metadata": {},
   "outputs": [],
   "source": []
  }
 ],
 "metadata": {
  "kernelspec": {
   "display_name": "Python 3",
   "language": "python",
   "name": "python3"
  },
  "language_info": {
   "codemirror_mode": {
    "name": "ipython",
    "version": 3
   },
   "file_extension": ".py",
   "mimetype": "text/x-python",
   "name": "python",
   "nbconvert_exporter": "python",
   "pygments_lexer": "ipython3",
   "version": "3.6.9"
  }
 },
 "nbformat": 4,
 "nbformat_minor": 2
}
